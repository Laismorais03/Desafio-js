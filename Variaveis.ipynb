{
  "nbformat": 4,
  "nbformat_minor": 0,
  "metadata": {
    "colab": {
      "name": "Variaveis.ipynb",
      "provenance": [],
      "collapsed_sections": [],
      "toc_visible": true,
      "authorship_tag": "ABX9TyO/kt1+llpWlG2wlOTnPD/4"
    },
    "kernelspec": {
      "name": "python3",
      "display_name": "Python 3"
    }
  },
  "cells": [
    {
      "cell_type": "markdown",
      "metadata": {
        "id": "C5scHOSM-7JL"
      },
      "source": [
        "#como criar variaveis\r\n"
      ]
    },
    {
      "cell_type": "code",
      "metadata": {
        "colab": {
          "base_uri": "https://localhost:8080/"
        },
        "id": "10w7EsGP_BLH",
        "outputId": "a28d5a1e-9cae-4b09-cd46-bb3cd2db98b1"
      },
      "source": [
        "variavel = 2\r\n",
        "print(variavel)\r\n",
        "type(variavel)"
      ],
      "execution_count": null,
      "outputs": [
        {
          "output_type": "stream",
          "text": [
            "2\n"
          ],
          "name": "stdout"
        },
        {
          "output_type": "execute_result",
          "data": {
            "text/plain": [
              "int"
            ]
          },
          "metadata": {
            "tags": []
          },
          "execution_count": 3
        }
      ]
    },
    {
      "cell_type": "markdown",
      "metadata": {
        "id": "lDjvaZ7v_5Xc"
      },
      "source": [
        "#variavel com valor real"
      ]
    },
    {
      "cell_type": "code",
      "metadata": {
        "colab": {
          "base_uri": "https://localhost:8080/"
        },
        "id": "4i8UBUffAAC_",
        "outputId": "38125d77-9b54-4be1-818c-3c0fd0f23b8d"
      },
      "source": [
        "preco_do_produto = 2.5\r\n",
        "print(preco_do_produto)\r\n",
        "type(preco_do_produto)"
      ],
      "execution_count": null,
      "outputs": [
        {
          "output_type": "stream",
          "text": [
            "2.5\n"
          ],
          "name": "stdout"
        },
        {
          "output_type": "execute_result",
          "data": {
            "text/plain": [
              "float"
            ]
          },
          "metadata": {
            "tags": []
          },
          "execution_count": 4
        }
      ]
    },
    {
      "cell_type": "markdown",
      "metadata": {
        "id": "hTQ2CAwOBLve"
      },
      "source": [
        "#variavel String"
      ]
    },
    {
      "cell_type": "code",
      "metadata": {
        "colab": {
          "base_uri": "https://localhost:8080/"
        },
        "id": "hq3fIhGBBPeh",
        "outputId": "8cf125e9-8e66-4a22-8484-17b114ca7290"
      },
      "source": [
        "variavel = \"texto\"\r\n",
        "print(variavel)"
      ],
      "execution_count": null,
      "outputs": [
        {
          "output_type": "stream",
          "text": [
            "texto\n"
          ],
          "name": "stdout"
        }
      ]
    },
    {
      "cell_type": "markdown",
      "metadata": {
        "id": "EdDdHPQeB24_"
      },
      "source": [
        "#Variavel Boolean"
      ]
    },
    {
      "cell_type": "code",
      "metadata": {
        "colab": {
          "base_uri": "https://localhost:8080/"
        },
        "id": "yAH9Fb2vB94D",
        "outputId": "509c0015-2cde-4c8e-a73d-4b7f75394f79"
      },
      "source": [
        "verdadeiro = True\r\n",
        "falso = False\r\n",
        "print(verdadeiro)\r\n",
        "print(falso)"
      ],
      "execution_count": null,
      "outputs": [
        {
          "output_type": "stream",
          "text": [
            "True\n",
            "False\n"
          ],
          "name": "stdout"
        }
      ]
    },
    {
      "cell_type": "markdown",
      "metadata": {
        "id": "iZVErSRUC7zC"
      },
      "source": [
        "#Lista"
      ]
    },
    {
      "cell_type": "code",
      "metadata": {
        "colab": {
          "base_uri": "https://localhost:8080/"
        },
        "id": "6bl_eoRJC_-f",
        "outputId": "e83856ad-46dc-4ff7-8e3b-c8c86263f9a1"
      },
      "source": [
        "lista = [1,2,3,4,5,6,7,8]\r\n",
        "print(lista)"
      ],
      "execution_count": null,
      "outputs": [
        {
          "output_type": "stream",
          "text": [
            "[1, 2, 3, 4, 5, 6, 7, 8]\n"
          ],
          "name": "stdout"
        }
      ]
    },
    {
      "cell_type": "code",
      "metadata": {
        "colab": {
          "base_uri": "https://localhost:8080/"
        },
        "id": "SUBkF6VyDqGR",
        "outputId": "4e4538f2-c829-472e-96fc-4b387ee5360a"
      },
      "source": [
        "lista2 = [True,False]\r\n",
        "print(lista2)"
      ],
      "execution_count": null,
      "outputs": [
        {
          "output_type": "stream",
          "text": [
            "[True, False]\n"
          ],
          "name": "stdout"
        }
      ]
    },
    {
      "cell_type": "code",
      "metadata": {
        "colab": {
          "base_uri": "https://localhost:8080/"
        },
        "id": "uAMb6HsID2BT",
        "outputId": "a5fd7517-0d35-4758-8e28-8059789600cc"
      },
      "source": [
        "lista_kenzie = [1,\"felipe\",2,\"Laís\"]\r\n",
        "print(lista_kenzie)"
      ],
      "execution_count": null,
      "outputs": [
        {
          "output_type": "stream",
          "text": [
            "[1, 'felipe', 2, 'Laís']\n"
          ],
          "name": "stdout"
        }
      ]
    },
    {
      "cell_type": "markdown",
      "metadata": {
        "id": "E3Ne__DYEHMQ"
      },
      "source": [
        "# Condições com If's"
      ]
    },
    {
      "cell_type": "code",
      "metadata": {
        "colab": {
          "base_uri": "https://localhost:8080/"
        },
        "id": "vTuakLgUEjbO",
        "outputId": "d618204e-4d10-41bc-9934-3fb19bbd8469"
      },
      "source": [
        "if 3 > 2:\r\n",
        "  print(\"É maior\")\r\n",
        "  print(\"foi\")"
      ],
      "execution_count": null,
      "outputs": [
        {
          "output_type": "stream",
          "text": [
            "É maior\n",
            "foi\n"
          ],
          "name": "stdout"
        }
      ]
    },
    {
      "cell_type": "code",
      "metadata": {
        "colab": {
          "base_uri": "https://localhost:8080/"
        },
        "id": "ppwXUbcxEl4v",
        "outputId": "ad4a5414-3901-48d6-bf77-a31328e12efe"
      },
      "source": [
        "if 2 > 3:\r\n",
        "  print(\"É maior\")\r\n",
        "  print(\"foi\")\r\n",
        "else:\r\n",
        "    print(\"não é maior\")\r\n",
        "    print(\"foi também\")"
      ],
      "execution_count": null,
      "outputs": [
        {
          "output_type": "stream",
          "text": [
            "não é maior\n",
            "foi também\n"
          ],
          "name": "stdout"
        }
      ]
    },
    {
      "cell_type": "markdown",
      "metadata": {
        "id": "hJTrHoBfF7tV"
      },
      "source": [
        "#usando a variavel"
      ]
    },
    {
      "cell_type": "code",
      "metadata": {
        "colab": {
          "base_uri": "https://localhost:8080/"
        },
        "id": "gVHZ-PZLF-eS",
        "outputId": "560f772f-b2bb-4e66-a10b-c1171fc0ce19"
      },
      "source": [
        "variavel_1 = 3\r\n",
        "variavel_2 = 4 \r\n",
        "if variavel_1 < variavel_2:\r\n",
        "  print(\"O valor na variavel 1 é menor\")"
      ],
      "execution_count": null,
      "outputs": [
        {
          "output_type": "stream",
          "text": [
            "O valor na variavel 1 é menor\n"
          ],
          "name": "stdout"
        }
      ]
    },
    {
      "cell_type": "code",
      "metadata": {
        "colab": {
          "base_uri": "https://localhost:8080/"
        },
        "id": "_PbwE84OGpGB",
        "outputId": "d398b0b2-6206-4769-9e56-ace1f73070fd"
      },
      "source": [
        "variavel_1 = 39\r\n",
        "variavel_2 = 37\r\n",
        "if variavel_1 < variavel_2:\r\n",
        "  print(\"O valor na variavel 1 é menor\")\r\n",
        "else:\r\n",
        "  variavel_2 > variavel_1\r\n",
        "  print(\"O valor da variavel 2 é maior\")"
      ],
      "execution_count": null,
      "outputs": [
        {
          "output_type": "stream",
          "text": [
            "O valor da variavel 2 é maior\n"
          ],
          "name": "stdout"
        }
      ]
    }
  ]
}